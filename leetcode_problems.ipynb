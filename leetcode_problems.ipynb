{
 "cells": [
  {
   "cell_type": "markdown",
   "metadata": {},
   "source": [
    "# 1. [Find the Duplicate Number] (https://leetcode.com/problems/find-the-duplicate-number/?envType=daily-question&envId=2023-09-19)"
   ]
  },
  {
   "cell_type": "code",
   "execution_count": 3,
   "metadata": {},
   "outputs": [
    {
     "name": "stdout",
     "output_type": "stream",
     "text": [
      "2\n"
     ]
    }
   ],
   "source": [
    "\n",
    "def findDuplicate(nums: list[int]) -> int:\n",
    "    res = 0\n",
    "    for i in range (0, len(nums)):\n",
    "      index = abs(nums[i])\n",
    "      if nums[index] < 0:\n",
    "        res = index\n",
    "      else:\n",
    "        nums[index] = -nums[index]\n",
    "    for i in range (0, len(nums)):\n",
    "      nums[i] = abs(nums[i])\n",
    "\n",
    "    return res\n",
    "\n",
    "print(findDuplicate([1,3,4,2,2]))"
   ]
  },
  {
   "cell_type": "markdown",
   "metadata": {},
   "source": [
    "2. Restore The Array [https://leetcode.com/problems/restore-the-array/description/?envType=daily-question&envId=2023-09-19]"
   ]
  },
  {
   "cell_type": "code",
   "execution_count": 4,
   "metadata": {},
   "outputs": [
    {
     "name": "stdout",
     "output_type": "stream",
     "text": [
      "1\n"
     ]
    }
   ],
   "source": [
    "from functools import lru_cache\n",
    "\n",
    "def numberOfArrays(s: str, k: int) -> int:\n",
    "        n=len(s)\n",
    "        mod=10**9+7\n",
    "\n",
    "        @lru_cache(None)\n",
    "        def rec(i=0):\n",
    "            if i==n:\n",
    "                return 1\n",
    "            if s[i]==\"0\":\n",
    "                return 0\n",
    "\n",
    "            res=0\n",
    "            curr=\"\"\n",
    "            for x in range (i,n):\n",
    "                curr+=s[x]\n",
    "                if int(curr)<=k:\n",
    "                    res+=rec(x+1)%mod\n",
    "                    res%=mod\n",
    "                else:\n",
    "                    break\n",
    "            return res\n",
    "        return rec()\n",
    "\n",
    "print(numberOfArrays(s=\"1000\", k=10000))"
   ]
  },
  {
   "cell_type": "code",
   "execution_count": 15,
   "metadata": {},
   "outputs": [
    {
     "name": "stdout",
     "output_type": "stream",
     "text": [
      "0\n"
     ]
    }
   ],
   "source": [
    "def solution (nums: list[int], x: int) -> int:\n",
    "    max_length = 0\n",
    "    tot_sum = 0\n",
    "    sum_dict = {0:-1}\n",
    "\n",
    "    for i in range (len(nums)):\n",
    "        tot_sum+=nums[i]\n",
    "        if (tot_sum == x):\n",
    "            max_length = i+1\n",
    "        elif tot_sum-x in sum_dict:\n",
    "            max_length = max(max_length, i-sum_dict[tot_sum-x])\n",
    "        if tot_sum not in sum_dict:\n",
    "            sum_dict[tot_sum]=i\n",
    "        \n",
    "    return max_length\n",
    "\n",
    "print(solution([3,2,20,1,1,3], 10))"
   ]
  }
 ],
 "metadata": {
  "kernelspec": {
   "display_name": "tf",
   "language": "python",
   "name": "python3"
  },
  "language_info": {
   "codemirror_mode": {
    "name": "ipython",
    "version": 3
   },
   "file_extension": ".py",
   "mimetype": "text/x-python",
   "name": "python",
   "nbconvert_exporter": "python",
   "pygments_lexer": "ipython3",
   "version": "3.10.12"
  },
  "orig_nbformat": 4
 },
 "nbformat": 4,
 "nbformat_minor": 2
}
