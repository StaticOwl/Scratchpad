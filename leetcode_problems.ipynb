{
 "cells": [
  {
   "cell_type": "markdown",
   "metadata": {},
   "source": [
    "# 1. [Find the Duplicate Number] (https://leetcode.com/problems/find-the-duplicate-number/?envType=daily-question&envId=2023-09-19)"
   ]
  },
  {
   "cell_type": "code",
   "execution_count": 6,
   "metadata": {},
   "outputs": [
    {
     "name": "stdout",
     "output_type": "stream",
     "text": [
      "2\n"
     ]
    }
   ],
   "source": [
    "\n",
    "def findDuplicate(nums: list[int]) -> int:\n",
    "    res = 0\n",
    "    for i in range (0, len(nums)):\n",
    "      index = abs(nums[i])\n",
    "      if nums[index] < 0:\n",
    "        res = index\n",
    "      else:\n",
    "        nums[index] = -nums[index]\n",
    "    for i in range (0, len(nums)):\n",
    "      nums[i] = abs(nums[i])\n",
    "\n",
    "    return res\n",
    "\n",
    "print(findDuplicate([1,3,4,2,2]))"
   ]
  }
 ],
 "metadata": {
  "kernelspec": {
   "display_name": "tf",
   "language": "python",
   "name": "python3"
  },
  "language_info": {
   "name": "python",
   "version": "3.10.12"
  },
  "orig_nbformat": 4
 },
 "nbformat": 4,
 "nbformat_minor": 2
}
