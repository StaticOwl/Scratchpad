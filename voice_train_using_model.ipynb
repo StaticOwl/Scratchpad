{
 "cells": [
  {
   "cell_type": "code",
   "execution_count": 9,
   "metadata": {},
   "outputs": [
    {
     "name": "stdout",
     "output_type": "stream",
     "text": [
      "/bin/bash: /home/staticowl/miniconda3//lib/libtinfo.so.6: no version information available (required by /bin/bash)\n",
      "Requirement already satisfied: pydub in /home/staticowl/.local/bin/.virtualenvs/tf/lib/python3.10/site-packages (0.25.1)\n",
      "Note: you may need to restart the kernel to use updated packages.\n"
     ]
    }
   ],
   "source": [
    "%pip install pydub"
   ]
  },
  {
   "cell_type": "code",
   "execution_count": 10,
   "metadata": {},
   "outputs": [],
   "source": [
    "# import torch\n",
    "# import torch.nn as nn\n",
    "# import torch.optim as optim\n",
    "# import numpy as np\n",
    "# import librosa\n",
    "# import librosa.display\n",
    "# import soundfile as sf\n",
    "# import os\n",
    "\n",
    "# # Load and preprocess dataset\n",
    "\n",
    "# # You may need to use librosa or other audio processing libraries for feature extraction\n",
    "\n",
    "# # Model architecture (Variational Autoencoder for simplicity)\n",
    "# class VoiceConversionModel(nn.Module):\n",
    "#     def __init__(self, input_dim, latent_dim):\n",
    "#         super(VoiceConversionModel, self).__init__()\n",
    "#         self.encoder = nn.Sequential(\n",
    "#             nn.Linear(input_dim, 512),\n",
    "#             nn.ReLU(),\n",
    "#             nn.Linear(512, latent_dim),\n",
    "#         )\n",
    "#         self.decoder = nn.Sequential(\n",
    "#             nn.Linear(latent_dim, 512),\n",
    "#             nn.ReLU(),\n",
    "#             nn.Linear(512, input_dim),\n",
    "#         )\n",
    "\n",
    "#     def forward(self, x):\n",
    "#         encoded = self.encoder(x)\n",
    "#         decoded = self.decoder(encoded)\n",
    "#         return encoded, decoded\n",
    "\n",
    "# # Define hyperparameters\n",
    "# input_dim = 128 \n",
    "# latent_dim = 64  \n",
    "\n",
    "\n",
    "# model = VoiceConversionModel(input_dim, latent_dim)\n",
    "# criterion = nn.MSELoss()\n",
    "# optimizer = optim.Adam(model.parameters(), lr=0.001)\n",
    "\n",
    "# # Training loop\n",
    "# num_epochs = 1000\n",
    "# for epoch in range(num_epochs):\n",
    "#     inputs = torch.tensor(X_train, dtype=torch.float32)\n",
    "#     targets = torch.tensor(Y_train, dtype=torch.float32)\n",
    "#     optimizer.zero_grad()\n",
    "#     _, outputs = model(inputs)\n",
    "#     loss = criterion(outputs, targets)\n",
    "#     loss.backward()\n",
    "#     optimizer.step()\n",
    "\n",
    "#     if (epoch + 1) % 100 == 0:\n",
    "#         print(f'Epoch [{epoch + 1}/{num_epochs}], Loss: {loss.item():.4f}')\n",
    "\n",
    "# input_feature = torch.tensor(X_train[0], dtype=torch.float32)\n",
    "# _, converted_feature_raw = model(input_feature)\n",
    "# converted_feature = converted_feature_raw.detach().numpy()\n",
    "# print(\"Converted Feature:\", converted_feature)\n",
    "\n"
   ]
  },
  {
   "cell_type": "code",
   "execution_count": 11,
   "metadata": {},
   "outputs": [],
   "source": [
    "# from pydub import AudioSegment\n",
    "\n",
    "# def spectrogram_to_audio(spectrogram):\n",
    "#     # Inverse transform spectrogram to waveform using Griffin-Lim\n",
    "\n",
    "#     print(\"Shape of spectrogram:\", spectrogram.shape)\n",
    "#     print(\"Data type of spectrogram:\", spectrogram.dtype)\n",
    "#     waveform = librosa.griffinlim(np.abs(spectrogram))\n",
    "#     return waveform\n",
    "\n",
    "# converted_audio = spectrogram_to_audio(converted_feature)\n",
    "# sf.write(\"output.wav\", converted_audio, 128)"
   ]
  },
  {
   "cell_type": "code",
   "execution_count": 12,
   "metadata": {},
   "outputs": [
    {
     "name": "stdout",
     "output_type": "stream",
     "text": [
      "[<tf.Tensor: shape=(2, 2), dtype=float32, numpy=\n",
      "array([[1.7537323, 1.7537323],\n",
      "       [1.2928395, 1.2928395]], dtype=float32)>, <tf.Tensor: shape=(2,), dtype=float32, numpy=array([2., 2.], dtype=float32)>]\n"
     ]
    }
   ],
   "source": [
    "import tensorflow as tf\n",
    "\n",
    "W = tf.Variable(tf.random.uniform((2,2)))\n",
    "b=tf.Variable(tf.zeros((2,)))\n",
    "x=tf.random.uniform((2,2))\n",
    "\n",
    "with tf.GradientTape() as tape:\n",
    "    y=tf.matmul(x,W)+b\n",
    "grad = tape.gradient(y, [W,b])\n",
    "\n",
    "print(grad)"
   ]
  }
 ],
 "metadata": {
  "kernelspec": {
   "display_name": "tf",
   "language": "python",
   "name": "python3"
  },
  "language_info": {
   "codemirror_mode": {
    "name": "ipython",
    "version": 3
   },
   "file_extension": ".py",
   "mimetype": "text/x-python",
   "name": "python",
   "nbconvert_exporter": "python",
   "pygments_lexer": "ipython3",
   "version": "3.10.12"
  },
  "orig_nbformat": 4
 },
 "nbformat": 4,
 "nbformat_minor": 2
}
